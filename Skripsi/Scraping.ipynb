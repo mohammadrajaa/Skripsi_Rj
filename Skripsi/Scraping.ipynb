{
 "cells": [
  {
   "cell_type": "markdown",
   "id": "66bfc4e4-e0e4-4c0b-9502-b0624e707c8b",
   "metadata": {
    "tags": []
   },
   "source": []
  },
  {
   "cell_type": "code",
   "execution_count": 14,
   "id": "e6dbf647-c329-486a-96bc-38b5191e7d51",
   "metadata": {},
   "outputs": [
    {
     "name": "stdout",
     "output_type": "stream",
     "text": [
      "Collecting scraper\n",
      "  Downloading scraper-0.1.0.tar.gz (2.6 kB)\n",
      "Requirement already satisfied: lxml>=3.0.1 in /opt/anaconda3/lib/python3.9/site-packages (from scraper) (4.8.0)\n",
      "Building wheels for collected packages: scraper\n",
      "  Building wheel for scraper (setup.py) ... \u001b[?25ldone\n",
      "\u001b[?25h  Created wheel for scraper: filename=scraper-0.1.0-py3-none-any.whl size=3486 sha256=4c9ee54ffd717747ebc5c6c93f202de77b19fb1a91210ad67e2c3cae422645e6\n",
      "  Stored in directory: /Users/rajadalimunthe/Library/Caches/pip/wheels/fd/d1/ed/526df15c97e86d4e59a7ba61a03cff2b0ea709cc315d0dcb71\n",
      "Successfully built scraper\n",
      "Installing collected packages: scraper\n",
      "Successfully installed scraper-0.1.0\n",
      "Note: you may need to restart the kernel to use updated packages.\n"
     ]
    }
   ],
   "source": [
    "pip install scraper"
   ]
  },
  {
   "cell_type": "markdown",
   "id": "1b4ebd4f-19ba-4ed8-96a5-e0c800ede632",
   "metadata": {
    "tags": []
   },
   "source": [
    "# Scrape Facebook"
   ]
  },
  {
   "cell_type": "code",
   "execution_count": null,
   "id": "4774e350-edfb-4572-8857-4f61ac89919e",
   "metadata": {},
   "outputs": [],
   "source": [
    "from facebook_scraper import get_posts\n",
    "comments=[]\n",
    "import pandas as pd\n",
    "for post in get_posts(post_urls=[\"https://www.facebook.com/145990654824/posts/pfbid0jNMYt4Xkg5bzxLbU1FbuEX25jGaKnnosNztTCah43ENSuvF3uUf5P4w1Sq7WZ7CFl/\", \"https://www.facebook.com/100069391441539/posts/pfbid0MWXyuHp7EY14PwRSUGKe5b49r8LTuWYAHoEDWNxytJir8UC64BcKygzE6abDxXucl/\"], options={\"comments\": True, \"progress\": True}):\n",
    "    comments = comments + post['comments_full']\n",
    "df = pd.DataFrame(comments)\n",
    "df.to_excel(\"scrape_facebook.xlsx\")\n",
    "df.head()"
   ]
  },
  {
   "cell_type": "markdown",
   "id": "8b5effe8-630d-4760-8fe4-7018238ae47a",
   "metadata": {},
   "source": [
    "# Scrape Twitter"
   ]
  },
  {
   "cell_type": "code",
   "execution_count": null,
   "id": "0027d26d-71af-4edf-9d41-378ebe088287",
   "metadata": {},
   "outputs": [],
   "source": [
    "import snscrape.modules.twitter as sntwitter\n",
    "import pandas as pd\n",
    "\n",
    "# Creating list to append tweet data to\n",
    "tweets = []\n",
    "\n",
    "# Using TwitterSearchScraper to scrape data and append tweets to list\n",
    "for i,tweet in enumerate(sntwitter.TwitterSearchScraper('omicron lang:id').get_items()):\n",
    "    if i>50000:\n",
    "        break\n",
    "    if 'omicron' in tweet.content:\n",
    "        tweets.append(tweet)\n",
    "    \n",
    "# Creating a dataframe to load the list\n",
    "tweets_df = pd.DataFrame(tweets)\n",
    "tweets_df['date'] = tweets_df['date'].apply(lambda a: pd.to_datetime(a).date()) \n",
    "tweets_df.to_excel('scrape_twitter.xlsx')\n",
    "tweets_df.head()"
   ]
  },
  {
   "cell_type": "markdown",
   "id": "985adfab-7bbb-4e86-88a0-a3876fcffe7d",
   "metadata": {},
   "source": [
    "# Menggabungkan Sentimen"
   ]
  },
  {
   "cell_type": "code",
   "execution_count": null,
   "id": "0a89e800-9203-4310-8301-a4ebff1711bb",
   "metadata": {},
   "outputs": [],
   "source": [
    "import pandas as pd \n",
    "\n",
    "# Membuat dataframe untuk memunculkan list \n",
    "twitter = pd.read_excel('scrape_twitter.xlsx')\n",
    "facebook = pd.read_excel('scrape_facebook.xlsx')\n",
    "instagram = pd.read_excel('scrape_instagram.xlsx')\n",
    "\n",
    "# Mengambil comment/opini dari setiap data yang didapat \n",
    "twitter_ = twitter.content\n",
    "facebook_ = facebook.comment_text\n",
    "instagram_ = instagram.text\n",
    "sentiment = pd.concat([twitter_, facebook_, instagram_], ignore_index=True)\n",
    "df = pd.DataFrame(sentiment, columns=['content'])\n",
    "# df.to_excel('raw_sentiment.xlsx')\n",
    "df.head(4579)\n",
    "                "
   ]
  },
  {
   "cell_type": "code",
   "execution_count": null,
   "id": "d558c78c-de4e-4eca-a366-8661dba0833b",
   "metadata": {},
   "outputs": [],
   "source": [
    "df = pd.read_excel('raw_sentiment.xlsx')"
   ]
  },
  {
   "cell_type": "code",
   "execution_count": 21,
   "id": "3193bab4-9f92-40db-81f1-a3824890bba2",
   "metadata": {},
   "outputs": [
    {
     "data": {
      "text/html": [
       "<div>\n",
       "<style scoped>\n",
       "    .dataframe tbody tr th:only-of-type {\n",
       "        vertical-align: middle;\n",
       "    }\n",
       "\n",
       "    .dataframe tbody tr th {\n",
       "        vertical-align: top;\n",
       "    }\n",
       "\n",
       "    .dataframe thead th {\n",
       "        text-align: right;\n",
       "    }\n",
       "</style>\n",
       "<table border=\"1\" class=\"dataframe\">\n",
       "  <thead>\n",
       "    <tr style=\"text-align: right;\">\n",
       "      <th></th>\n",
       "      <th>Unnamed: 0</th>\n",
       "      <th>content</th>\n",
       "    </tr>\n",
       "  </thead>\n",
       "  <tbody>\n",
       "    <tr>\n",
       "      <th>0</th>\n",
       "      <td>0</td>\n",
       "      <td>Semoga g omicron ya Tuhan</td>\n",
       "    </tr>\n",
       "    <tr>\n",
       "      <th>1</th>\n",
       "      <td>1</td>\n",
       "      <td>@dinagustavsson Ada delta,omicron ,cacar munyu...</td>\n",
       "    </tr>\n",
       "    <tr>\n",
       "      <th>2</th>\n",
       "      <td>2</td>\n",
       "      <td>Ayo sukseskan vaksinasi Covid-19 dengan melaku...</td>\n",
       "    </tr>\n",
       "    <tr>\n",
       "      <th>3</th>\n",
       "      <td>3</td>\n",
       "      <td>Agar terhindar dr varian baru omicron BA.4 &amp;am...</td>\n",
       "    </tr>\n",
       "    <tr>\n",
       "      <th>4</th>\n",
       "      <td>4</td>\n",
       "      <td>Ambil baik nya, pas kenapa omicron, pertama bi...</td>\n",
       "    </tr>\n",
       "    <tr>\n",
       "      <th>...</th>\n",
       "      <td>...</td>\n",
       "      <td>...</td>\n",
       "    </tr>\n",
       "    <tr>\n",
       "      <th>21618</th>\n",
       "      <td>21618</td>\n",
       "      <td>Pengaruh nya apa pak? Jadi bagaimana mereka yg...</td>\n",
       "    </tr>\n",
       "    <tr>\n",
       "      <th>21619</th>\n",
       "      <td>21619</td>\n",
       "      <td>Catat broo... @gunawanboydeep_ @afzhan_white</td>\n",
       "    </tr>\n",
       "    <tr>\n",
       "      <th>21620</th>\n",
       "      <td>21620</td>\n",
       "      <td>Skenario untuk puasa dan idul fitri mulai dbuat</td>\n",
       "    </tr>\n",
       "    <tr>\n",
       "      <th>21621</th>\n",
       "      <td>21621</td>\n",
       "      <td>Langsung masuk kubur ajalah kau...</td>\n",
       "    </tr>\n",
       "    <tr>\n",
       "      <th>21622</th>\n",
       "      <td>21622</td>\n",
       "      <td>Opung nggak??</td>\n",
       "    </tr>\n",
       "  </tbody>\n",
       "</table>\n",
       "<p>21623 rows × 2 columns</p>\n",
       "</div>"
      ],
      "text/plain": [
       "       Unnamed: 0                                            content\n",
       "0               0                          Semoga g omicron ya Tuhan\n",
       "1               1  @dinagustavsson Ada delta,omicron ,cacar munyu...\n",
       "2               2  Ayo sukseskan vaksinasi Covid-19 dengan melaku...\n",
       "3               3  Agar terhindar dr varian baru omicron BA.4 &am...\n",
       "4               4  Ambil baik nya, pas kenapa omicron, pertama bi...\n",
       "...           ...                                                ...\n",
       "21618       21618  Pengaruh nya apa pak? Jadi bagaimana mereka yg...\n",
       "21619       21619       Catat broo... @gunawanboydeep_ @afzhan_white\n",
       "21620       21620    Skenario untuk puasa dan idul fitri mulai dbuat\n",
       "21621       21621                 Langsung masuk kubur ajalah kau...\n",
       "21622       21622                                      Opung nggak??\n",
       "\n",
       "[21623 rows x 2 columns]"
      ]
     },
     "execution_count": 21,
     "metadata": {},
     "output_type": "execute_result"
    }
   ],
   "source": [
    "df"
   ]
  },
  {
   "cell_type": "markdown",
   "id": "07af2c9d-9e85-4777-ab83-05150a9f8c60",
   "metadata": {},
   "source": [
    "## "
   ]
  }
 ],
 "metadata": {
  "kernelspec": {
   "display_name": "Python 3 (ipykernel)",
   "language": "python",
   "name": "python3"
  },
  "language_info": {
   "codemirror_mode": {
    "name": "ipython",
    "version": 3
   },
   "file_extension": ".py",
   "mimetype": "text/x-python",
   "name": "python",
   "nbconvert_exporter": "python",
   "pygments_lexer": "ipython3",
   "version": "3.9.12"
  }
 },
 "nbformat": 4,
 "nbformat_minor": 5
}
